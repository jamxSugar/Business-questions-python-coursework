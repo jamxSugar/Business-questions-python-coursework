{
 "cells": [
  {
   "cell_type": "markdown",
   "id": "passing-impossible",
   "metadata": {},
   "source": [
    "# <center>2020-21</center>\n",
    "# <center>[CMSE11433]</center>\n",
    "# <center>Python Programming</center>\n",
    "# <center>Final Individual Assignmen</center>\n",
    "\n",
    "\n",
    "\n",
    "## <center>B189488</center>\n",
    "## <center>MSc in Business Analytics</center>"
   ]
  },
  {
   "cell_type": "code",
   "execution_count": 1,
   "id": "6210e2b8",
   "metadata": {},
   "outputs": [
    {
     "data": {
      "text/html": [
       "<style>.container { width:100% !important; }</style>"
      ],
      "text/plain": [
       "<IPython.core.display.HTML object>"
      ]
     },
     "metadata": {},
     "output_type": "display_data"
    }
   ],
   "source": [
    "# experimental: you can run this cell to see your code full-width\n",
    "\n",
    "from IPython.core.display import display, HTML\n",
    "display(HTML(\"<style>.container { width:100% !important; }</style>\"))"
   ]
  },
  {
   "cell_type": "markdown",
   "id": "cf72289e",
   "metadata": {},
   "source": [
    "# Final Individual Assignment: \n",
    "\n",
    "\n",
    "## Answer 3 Business Questions using Companies House API\n",
    "\n",
    "This assignment follows exactly the same format as all of your other assignments for this course.\n",
    "\n",
    "**As in all the other assignments you are asked to:**\n",
    "\n",
    "- look at a dataset using python and identify a business question\n",
    "- write a mini-report that answers your business question \n",
    "- accompany your report with a visualisation (table, graph, etc)"
   ]
  },
  {
   "cell_type": "markdown",
   "id": "2646ae98",
   "metadata": {},
   "source": [
    "**What is different from previous assignments:**\n",
    "\n",
    "- this project is **individual**, you are not working in pairs\n",
    "- you are given a specific dataset (Companies House API, which you used before)\n",
    "- you are asked to answer **THREE DIFFERENT QUESTIONS**. Each question will have its own code, report and visualisation\n",
    "- you need to identify questions by yourself. Ask about something that can be answered with this data. Also attempt to ask something that can be useful in a business context.\n",
    "- try to keep each of the 3 questions quite different from each other (eg. do not make them reuse all of the same code or identical visualisation)\n",
    "- do not re-use your question from your week 10 assignment. Ask new questions.\n",
    "- all libraries and visualisation methods are allowed\n",
    "- your report does NOT need to use any complicated statistical or programming techniques. Rather try to look into whas is available in the data and find something interestin in it\n",
    "- if you keep running out of your quote (because youa re making a lot of API calls), consider saving your API results in a file, and then getting more API results, and adding them to the same file."
   ]
  },
  {
   "cell_type": "markdown",
   "id": "cbf7762e",
   "metadata": {},
   "source": [
    "### Example Questions: You can use these, change them or design your own\n",
    "\n",
    "**What makes a company more fair in terms of gender equality?** Look at the data about ownership/voting  - does this data behave differently for people of different genders, ages and nationalities? hint: We can sometimes deduce a person's gender from their title (Mr, Mrs) but not always (Dr). You could compare companies with the word X and word Y in their name, or look at some other variable to see which companies are more equal than others.\n",
    "\n",
    "**When's a good time to start a tourism business?** Looking at tourism-related companies, do you see patterns in years/months of creation and cessation (closing)? Are companies created at some times more likely to survive for longer? note: to get tourism-related companies, first fetch company details for many tourism words ['travel','trip','cruise',...] and then check their Standard Industrial Classification (SIC) codes.\n",
    "\n",
    "**What is the best place in UK to set up a fintech company?** Did it change over the years? Look at locations of companies in a sector, and where they are based. Does the count of companies, or the lengths of time they survive, change over time? Does it change differently in different locations? note: to get industry's companies you could use the method described above (using many words and filtering SIC codes)\n",
    "\n",
    "Note: these really are just examples. Feel free to look at anything that is of interest to you, and can be answered with this data"
   ]
  },
  {
   "cell_type": "markdown",
   "id": "4f45b923",
   "metadata": {},
   "source": [
    "## Deliverables for each Question: Code, Mini-report, Visualisation\n",
    "\n",
    "### Code\n",
    "\n",
    "In your notebook please include all the **code** that you used to arrive at the conclusion. \n",
    "\n",
    "- It is absolutely ok to re-use your own code from one question in another question\n",
    "- But please write the most important parts of code for each Question that help you to answer the question \n",
    "\n",
    "\n",
    "### Mini-report\n",
    "\n",
    "At the end of your notebook, you should provide:\n",
    "\n",
    "- a markdown (text) cell with your mini-report (200 words +/- 10%). For reference, 'Marking criteria' section below has around 220 words)\n",
    "\n",
    "### Visualisation\n",
    "\n",
    "Use the data you extracted to further your argument with visualisations:\n",
    "\n",
    "- a cell that will generate the graph or table that accompanies your mini-report (you are allowed to combine a number of graphs, if they are combined into one unit and make sense, eg. combining 3 bar charts side by side, or overlapping a line chart with a bar chart)."
   ]
  },
  {
   "cell_type": "markdown",
   "id": "06a0602c",
   "metadata": {},
   "source": [
    "Marking Criteria for each Question (same as in previous assignments)\n",
    "\n",
    "**Business Question and Answer:**\n",
    "\n",
    "Did you manage to find a question that can be answered with given data? As an analyst, you will often have to dive into available data and identify how it can help the business, or solve a problem, without first knowing what the problem is. Also, can you formulate a clear answer to the question you created?\n",
    " \n",
    "- 50% - C - GOOD - question and answer are clear, well defined and connect with the dataset\n",
    "- 60% - B - VERY GOOD - argument is clearly positioned in a business context, and attempts to provide value/insight\n",
    "- 70% - A - EXCELLENT - insights are novel, actionable and the writeup is of publishable quality.\n",
    "\n",
    "**Using the Data:**\n",
    "\n",
    "How well did you use the data to answer your question? Your answer should be supported by what you found in the data. Briefly describe why this was the correct data, and the correct analysis to perform on it.\n",
    " \n",
    "- 50% - C - GOOD - data selected is appropriate for the task, analysis is clear, the source is mentioned\n",
    "- 60% - B - VERY GOOD - data analysis section advances the argument, makes a clear point and is easy to read and understand\n",
    "- 70% - A - EXCELLENT - analysis is insightful, using multiple parts of the data set in a creative way\n",
    "\n",
    "**Visualisation:**\n",
    "\n",
    "Can you aid your argument/answer with visual clues? A graph can say a thousand words, but it is also easy to make one that is confusing, or misleading. Use simple (or highly customised) graphs to make your argument clearer.\n",
    " \n",
    "- 50% - C - GOOD - graph is communicative, appropriate and similar complexity as in the notes\n",
    "- 60% - B - VERY GOOD - graph is customised and combines a number of styles and types of visualisation\n",
    "- 70% - A - EXCELLENT - graph is using clear visual language to make a point, adds to the argument, and is of publishable quality\n",
    "\n",
    "**Code Quality:**\n",
    "\n",
    "Is your code clean, readable and DRY (Don't repeat yourself)? Are you using good readable variable names? Did you clean up your code and does it not include any old/unused parts?\n",
    " \n",
    "- 50% - C - GOOD - code has meaningful variable names, no needlessly repeated code\n",
    "- 60% - B - VERY GOOD - also signposted, reasonably commented and cleaned up\n",
    "- 70% - A - EXCELLENT - also code has a logical flow, consistency of names and granularity/size\n",
    "\n",
    "**Code Structure:**\n",
    "\n",
    "Is your code well structured and broken down? Just like good writing has sentences, paragraphs and chapters, good code should be split into sections. Break down your code into cells and functions. Use meaningful signposts (eg. comments, function names) to guide the reader through your code.\n",
    " \n",
    "- 50% - C - GOOD - code is broken down into cells, by the code's purpose\n",
    "- 60% - B - VERY GOOD - code is broken down by cell and also separated and readable. Attempts on reusing code are made\n",
    "- 70% - A - EXCELLENT - code is split into functions and/or objects and can be easily reused"
   ]
  },
  {
   "cell_type": "markdown",
   "id": "29ee9850",
   "metadata": {},
   "source": [
    "# API we will use: Companies House\n",
    "\n",
    "Companies house is the official public  register of all companies in the UK. You can search for companiers, peope etc. You can also get basic information about many companies, or request detailed information about one company. You will need to create an account - probably best if you use your university email address. You can find more information on companies house website and https://developer.company-information.service.gov.uk/get-started. "
   ]
  },
  {
   "cell_type": "markdown",
   "id": "548d60ec",
   "metadata": {},
   "source": [
    "**All possible API calls you can make:**\n",
    "\n",
    "There is a number of calls you can make from the API. Find all the details (and info about the format of answers) here: https://developer-specs.company-information.service.gov.uk/companies-house-public-data-api/reference"
   ]
  },
  {
   "cell_type": "markdown",
   "id": "57cc3a7c",
   "metadata": {},
   "source": [
    "**Extra notes:  Standard Industrial Classification (SIC)**\n",
    "\n",
    "company infomation includes 'industry type' as a SIC code. List of codes is here: https://assets.publishing.service.gov.uk/government/uploads/system/uploads/attachment_data/file/527619/SIC07_CH_condensed_list_en.csv/preview\n",
    "\n",
    "for example:\n",
    "\n",
    "- 72200 Research and experimental development on social sciences and humanities\n",
    "- 73110 Advertising agencies\n",
    "- 73120 Media representation services\n",
    "- 73200 Market research and public opinion polling\n",
    "- 74100 specialised design activities\n",
    "- 74201 Portrait photographic activities\n",
    "- 74202 Other specialist photography\n",
    "- 74203 Film processing"
   ]
  },
  {
   "cell_type": "markdown",
   "id": "a257e29e",
   "metadata": {},
   "source": [
    "# If you do not have one yet: creating a developer account and API  key \n",
    "\n",
    "You likely already have an account and key from your previous assignments - it's probably easiest and best if you reuse that account and key."
   ]
  },
  {
   "cell_type": "markdown",
   "id": "4111af6e",
   "metadata": {},
   "source": [
    "To create a new one:\n",
    "\n",
    "- Go to 'register a user account' link https://identity.company-information.service.gov.uk/oauth2/user/signin, enter your **school email** and then click the link you received by email\n",
    "- setup a password\n",
    "- login to https://identity.company-information.service.gov.uk/oauth2/user/signin\n",
    "- go to New Application on top (https://developer.company-information.service.gov.uk/manage-applications/add)\n",
    "- ented a name and short description for your API project (just say it's a univeristy project) and choose **Live in 'environment for your application'**. Leave other options blank.\n",
    "- go to 'View all applications' (https://developer.company-information.service.gov.uk/manage-applications)\n",
    "- click on the name of your application, and then 'Create new key'\n",
    "- Select these options:\n",
    "-    Key name and description: here write anything, like 'python project'\n",
    "-    Select the type of API client key you want to create: REST\n",
    "- leave other options empty, and click 'Create Key'\n",
    "- When done, scroll down and copy-paste your key to this notebook. key will look a bit like this: \te3aaad12-fd44-4aad-9389-f7dccccc67f9\n",
    "\n",
    "Once you are set up:\n",
    "\n",
    "- all the possible requests can be found here: https://developer-specs.company-information.service.gov.uk/companies-house-public-data-api/reference\n",
    "- by the way: you are allowed to ask 600 requests within each five-minute period, after that period, you get another 600. If you use up all the 600 questions, API will make you wait for a few seconds/minutes."
   ]
  },
  {
   "cell_type": "markdown",
   "id": "7d4daaac",
   "metadata": {},
   "source": [
    "# Some functions to get you started: \n",
    "\n"
   ]
  },
  {
   "cell_type": "code",
   "execution_count": 1,
   "id": "8ad22cd8",
   "metadata": {},
   "outputs": [],
   "source": [
    "# list of library for this project\n",
    "import requests\n",
    "import pprint as pp\n",
    "import datetime\n",
    "from datetime import date \n",
    "from datetime import datetime\n",
    "import math\n",
    "# you might need to add a few of your own\n",
    "import numpy as np\n",
    "import pandas as pd\n",
    "from dateutil.relativedelta import relativedelta\n",
    "import matplotlib.pyplot as plt\n",
    "from statistics import mean\n",
    "import seaborn as sns\n",
    "\n"
   ]
  },
  {
   "cell_type": "code",
   "execution_count": 25,
   "id": "b24fd15d",
   "metadata": {},
   "outputs": [],
   "source": [
    "# function for calling the API to retrieve JSON\n",
    "def call_api_with(url_extension):\n",
    "    your_company_house_api_key =\"6c00bfd1-26c0-45b6-b524-17b0c29fce76\"\n",
    "        \n",
    "    login_headers = {\"Authorization\":your_company_house_api_key}\n",
    "    url = f\"https://api.companieshouse.gov.uk/{url_extension}\"\n",
    "    # above: could be eg. https://api.companieshouse.gov.uk/search/companies?q=shop&items_per_page=1\n",
    "#     print(f'requesting: {url}') \n",
    "    # above, optional: printing, so that you see visually how many calls you are making\n",
    "    res = requests.get(url, headers=login_headers) #, verify=False)\n",
    "    return res.json()"
   ]
  },
  {
   "cell_type": "code",
   "execution_count": 19,
   "id": "85edb73c",
   "metadata": {},
   "outputs": [],
   "source": [
    "import time\n",
    "    \n",
    "def call_api_with(url_extension):\n",
    "    your_company_house_api_key =\"6c00bfd1-26c0-45b6-b524-17b0c29fce76\"\n",
    "    login_headers = {\"Authorization\":your_company_house_api_key}\n",
    "    url = f\"https://api.companieshouse.gov.uk/{url_extension}\"\n",
    "#     print(f'requesting: {url}') # comment this out if it 'polutes' your output with lots of prints\n",
    "    res = requests.get(url, headers=login_headers) #, verify=False)\n",
    "    if res.status_code == 200:\n",
    "        return res.json()\n",
    "    else:\n",
    "        print(\"status code is not 'SUCCESS 200'. Will wait 60 seconds\")\n",
    "        time.sleep(60) # sleep X seconds\n",
    "        return call_api_with(url_extension) # then make the same request that brought you here. Basiclaly try again.\n"
   ]
  },
  {
   "cell_type": "code",
   "execution_count": 3,
   "id": "fc5c6739",
   "metadata": {},
   "outputs": [],
   "source": [
    "# test to get one company\n",
    "def get_one_test_company_or_error():\n",
    "    url = f\"search/companies?q=shop&items_per_page=1\"\n",
    "    return call_api_with(url)"
   ]
  },
  {
   "cell_type": "code",
   "execution_count": 4,
   "id": "e6b521e4",
   "metadata": {},
   "outputs": [],
   "source": [
    "def search_for_companies_with_query(query, optionalNumber_of_companies = 200):\n",
    "    url = f\"search/companies?q={query}&items_per_page={optionalNumber_of_companies}\"\n",
    "    return call_api_with(url).get('items', [])"
   ]
  },
  {
   "cell_type": "code",
   "execution_count": 5,
   "id": "fc84e380",
   "metadata": {},
   "outputs": [],
   "source": [
    "# search company with specific query / keyword\n",
    "def search_for_companies_with_query(query, number_of_companies = 100):\n",
    "    # for simplicity round up the number of returned companies to the nearest hundred. eg. 130 becomes 200\n",
    "    page_size = 100\n",
    "    number_of_pages = math.ceil(number_of_companies / page_size) # round up\n",
    "    companies = []\n",
    "    for page_index in range(0, number_of_pages):\n",
    "        url = f\"search/companies?q={query}&items_per_page={page_size}&start_index={page_index*page_size}\"\n",
    "        companies += call_api_with(url).get('items', [])\n",
    "    return companies\n",
    "\n"
   ]
  },
  {
   "cell_type": "code",
   "execution_count": 6,
   "id": "a06d9d0e",
   "metadata": {},
   "outputs": [],
   "source": [
    "# request to get company data based on company number\n",
    "def data_for_company(company_number):\n",
    "    url = f\"company/{company_number}\"\n",
    "    return call_api_with(url)"
   ]
  },
  {
   "cell_type": "code",
   "execution_count": 7,
   "id": "519efbdf",
   "metadata": {},
   "outputs": [],
   "source": [
    "# get all persons with significant control from company which contains specific keyword\n",
    "def all_persons_in_company(company_number):\n",
    "    url = f\"company/{company_number}/persons-with-significant-control\"\n",
    "    return call_api_with(url).get('items', [])"
   ]
  },
  {
   "cell_type": "code",
   "execution_count": 8,
   "id": "29d6697b",
   "metadata": {},
   "outputs": [],
   "source": [
    "def detailed_info_about_companies_with_ids(companies_numbers):\n",
    "    results = []\n",
    "    for company_number in companies_numbers:\n",
    "        results.append(data_for_company(company_number))\n",
    "    return results"
   ]
  },
  {
   "cell_type": "code",
   "execution_count": 9,
   "id": "e63b61c6",
   "metadata": {},
   "outputs": [],
   "source": [
    "# you are likely to use top level functions like this one.\n",
    "def detailed_info_about_companies_with_name(name, how_many = 10):\n",
    "    # eg. unless otherwise stated, just grab 10 companies detailed info\n",
    "    companies_basic_info = search_for_companies_with_query(name, how_many)\n",
    "    companies_ids = [company['company_number'] for company in companies_basic_info]\n",
    "    companies = detailed_info_about_companies_with_ids(companies_ids[:how_many])\n",
    "    return companies"
   ]
  },
  {
   "cell_type": "markdown",
   "id": "7499380a",
   "metadata": {},
   "source": [
    "### End of example code"
   ]
  },
  {
   "cell_type": "markdown",
   "id": "4180115e",
   "metadata": {},
   "source": [
    "# Business Question 1: What makes a company more fair in terms of gender?"
   ]
  },
  {
   "cell_type": "markdown",
   "id": "18915b62",
   "metadata": {},
   "source": [
    "### Business Question 1: Code:"
   ]
  },
  {
   "cell_type": "code",
   "execution_count": 19,
   "id": "7c9a234e",
   "metadata": {
    "deletable": false,
    "nbgrader": {
     "cell_type": "code",
     "checksum": "9a6e3a6a854c5207e8fcb66335471a5d",
     "grade": true,
     "grade_id": "cell-b5b5ea7c8326b1d9",
     "locked": false,
     "points": 100,
     "schema_version": 3,
     "solution": true,
     "task": false
    }
   },
   "outputs": [],
   "source": [
    "# YOUR CODE HERE"
   ]
  },
  {
   "cell_type": "code",
   "execution_count": 14,
   "id": "17d4319c",
   "metadata": {},
   "outputs": [],
   "source": [
    "def gender_if_known(person):\n",
    "    name_elements = person.get('name_elements', {}) # we can use my_dictionary.get(key, value_if_key_missing)\n",
    "    title_if_known = name_elements.get('title', 'Unknown') \n",
    "    \n",
    "    if title_if_known == 'Mr':\n",
    "        return 'Male'\n",
    "    elif title_if_known == 'Mrs' or  title_if_known == 'Ms'  or  title_if_known == 'Miss': # there can be more\n",
    "        return 'Female'\n",
    "    else:\n",
    "        return 'Other or Unknown'\n",
    "\n",
    "\n",
    "assert gender_if_known( {'name': 'Mrs Jasvinder Sohal', 'name_elements': { 'title': 'Mrs'}})  == 'Female'\n",
    "assert gender_if_known( {'name': 'Mr Jasvinder Sohal', 'name_elements': { 'title': 'Mr'}})  == 'Male'\n",
    "assert gender_if_known( {'name': 'Dr Jasvinder Sohal', 'name_elements': { 'title': 'Dr'}})  == 'Other or Unknown'\n",
    "\n",
    "# regard the higher number in the string as the voting rights\n",
    "def int_from_voting_string(voting_string):\n",
    "    if voting_string.count(\"voting\") and len(voting_string.split(\"-\"))==6:\n",
    "        return int(voting_string.split(\"-\")[4])\n",
    "    else:\n",
    "        return 0\n",
    "#     input: 'voting-rights-25-to-50-percent'\n",
    "#     output: 50\n",
    "\n",
    "assert int_from_voting_string('voting-rights-25-to-50-percent') == 50\n",
    "assert int_from_voting_string('voting-rights-0-to-25-percent') == 25\n",
    "assert int_from_voting_string('ownership-of-shares-25-to-50-percent') == 0\n",
    "\n",
    "# get the voting rights in the long nature of control list\n",
    "def number_of_voting_rights(all_rights):\n",
    "    voting_percents = [int_from_voting_string(one_right)\n",
    "                       for one_right in all_rights\n",
    "                       if one_right.count(\"voting\")]\n",
    "    return sum(voting_percents)\n",
    "#     eg. input: ['ownership-of-shares-75-to-100-percent',\n",
    "#    'voting-rights-25-to-50-percent',\n",
    "#    'right-to-appoint-and-remove-directors']\n",
    "#     \n",
    "#     output: 50\n",
    "assert number_of_voting_rights(['ownership-of-shares-75-to-100-percent','voting-rights-25-to-50-percent']) == 50\n",
    "assert number_of_voting_rights(['ownership-of-shares-75-to-100-percent','voting-rights-0-to-25-percent']) == 25\n",
    "assert number_of_voting_rights(['ownership-of-shares-75-to-100-percent']) == 0\n",
    "\n",
    "# regard the higher number in the string as the ownership\n",
    "def int_from_ownership_string(ownership_string):\n",
    "    if ownership_string.count('ownership') and len(ownership_string.split(\"-\"))==7:\n",
    "        return int(ownership_string.split(\"-\")[5])\n",
    "    else:\n",
    "        return 0\n",
    "#test\n",
    "assert int_from_ownership_string('ownership-of-shares-75-to-100-percent')==100\n",
    "assert int_from_ownership_string('ownership-of-shares-50-to-75-percent')==75\n",
    "assert int_from_ownership_string(['ownership-of-shares-75-to-100-percent-as-trust'])==0\n",
    "\n",
    "# get the voting rights in the long nature of control list\n",
    "def number_of_ownership(all_rights):\n",
    "    ownership_percents = [int_from_ownership_string(one_right)\n",
    "                       for one_right in all_rights\n",
    "                       if one_right.count(\"ownership\")]\n",
    "    return sum(ownership_percents)\n",
    "\n",
    "#test\n",
    "assert number_of_ownership(['ownership-of-shares-75-to-100-percent','voting-rights-25-to-50-percent']) == 100\n",
    "assert number_of_ownership(['ownership-of-shares-25-to-50-percent','voting-rights-0-to-25-percent']) == 50\n",
    "assert number_of_ownership(['ownership-of-shares-75-to-100-percent','ownership-of-shares-75-to-100-percent-as-trust']) == 100\n",
    "assert number_of_ownership(['voting-rights-25-to-50-percent']) == 0\n",
    "\n",
    "\n",
    "# save essential information of persons in a DataFrame\n",
    "# each person's information is on one row\n",
    "def save_info_to_df(df,companies,company_field):\n",
    "    for company in companies:\n",
    "        for person in all_persons_in_company(company['company_number']): \n",
    "            df=df.append({'company_field':company_field,'company_number':company['company_number'],\n",
    "                                     'status':company['company_status'],\n",
    "                                     'person_name':person['name'],\n",
    "                                     'notified_date':person.get('notified_on',None)[:4],\n",
    "                                    'age':2021-int(person.get(\"date_of_birth\",{}).get('year',2021)),\n",
    "                                    'gender':gender_if_known(person),\n",
    "                                    \"nationality\":person.get('nationality','Others'),\n",
    "                                    \"voting_rights\":number_of_voting_rights(person.get('natures_of_control','')),\n",
    "                                    \"ownership\":number_of_ownership(person.get('natures_of_control',''))},\n",
    "                                    ignore_index=True)\n",
    "    # remove outliers\n",
    "    df = df.drop(df[df.nationality=='Others'].index)\n",
    "    df = df.drop(df[df.age<18].index)\n",
    "    df = df.drop(df[df.gender=='Other or Unknown'].index)\n",
    "    # reset index of dataFrame\n",
    "    df=df.reset_index(drop=True)\n",
    "    return df\n",
    "\n",
    "def get_gender(df):\n",
    "    # calculate the size of each group\n",
    "    gender=df.groupby('gender').size()\n",
    "    gender_dict=gender.to_dict()\n",
    "    \n",
    "    return gender_dict\n",
    "\n",
    "# create pie chart for companies in each field\n",
    "def get_pie_chart(dic,title):\n",
    "    \n",
    "    labels=list(dic.keys())\n",
    "    values=list(dic.values())\n",
    "\n",
    "    explode=[0]*len(dic)\n",
    "    explode[0]=0.2\n",
    "    \n",
    "    plt.pie(values,explode=explode,labels=labels, shadow=False, startangle=80,autopct='%.2f%%')\n",
    "\n",
    "    # This function makes the axes equal, so the circle is round\n",
    "    plt.axis('equal')\n",
    "    plt.title(title)\n",
    "\n",
    "# get the number of persons group by var1 and var2\n",
    "def get_number(df,var1,var2):\n",
    "    count_series=df.groupby([var1, var2]).size()\n",
    "    count_groupby = count_series.to_frame(name = 'count').reset_index()\n",
    "    return count_groupby\n",
    "\n",
    "# Get line chart by gender over time\n",
    "def get_line_chart(dataset,title):\n",
    "    ax=sns.lineplot(data=dataset, x=\"notified_date\", y=\"count\", hue=\"gender\")\n",
    "    ax.set_ylabel(title)\n",
    "    ax.set_ylabel('Population')\n",
    "    ax.set_xlabel('Notified Year')\n",
    "    return ax\n",
    "\n",
    "# Calculate the mean of voting rights and ownership for male and female\n",
    "def voting_and_ownership(df,nature_of_control):\n",
    "    male_control=0\n",
    "    female_control=0\n",
    "    male=0\n",
    "    female=0\n",
    "    for j in range(len(df)):\n",
    "        \n",
    "        if df.loc[j,'gender']=='Male':\n",
    "            male_control+=df.loc[j,nature_of_control]\n",
    "            male+=1\n",
    "        else:\n",
    "            female_control+=df.loc[j,nature_of_control]\n",
    "            female+=1\n",
    "    # calculate the mean of percentage\n",
    "    male_control=male_control/male\n",
    "    female_control=female_control/female\n",
    "    \n",
    "    # return two variables in a tuple\n",
    "    return (male_control,female_control)\n",
    "\n",
    "\n",
    "# Double Bar Chart - voting rights & ownership\n",
    "def get_double_bar_chart(nature_of_control,ylabel,title):\n",
    "    # set up two groups\n",
    "    X = ['fashion','finance']\n",
    "    \n",
    "    # set up y label for male and female\n",
    "    YBritish = [voting_and_ownership(df_fash,nature_of_control)[0],voting_and_ownership(df_finance,nature_of_control)[0]]\n",
    "    ZForeigner = [voting_and_ownership(df_fash,nature_of_control)[1],voting_and_ownership(df_finance,nature_of_control)[1]]\n",
    "    # set up x axis\n",
    "    X_axis = np.arange(len(X))\n",
    "    # draw double bar chart\n",
    "    plt.bar(X_axis - 0.2, YBritish, 0.4, label = 'male')\n",
    "    plt.bar(X_axis + 0.2, ZForeigner, 0.4, label = 'female')\n",
    "\n",
    "    plt.xticks(X_axis, X)\n",
    "    plt.xlabel(\"Groups\")\n",
    "    plt.ylabel(ylabel)\n",
    "    plt.title(title)\n",
    "    plt.legend()"
   ]
  },
  {
   "cell_type": "code",
   "execution_count": 11,
   "id": "rotary-blood",
   "metadata": {
    "scrolled": true
   },
   "outputs": [],
   "source": [
    "# call api to search \n",
    "fashion_companies = search_for_companies_with_query(\"fashion\",  number_of_companies = 200)\n",
    "finance_companies = search_for_companies_with_query(\"finance\",  number_of_companies = 200)"
   ]
  },
  {
   "cell_type": "code",
   "execution_count": 12,
   "id": "f9308860",
   "metadata": {
    "scrolled": true
   },
   "outputs": [],
   "source": [
    "# create a dataFrame and save essential persons information in the df\n",
    "df_persons=pd.DataFrame(columns=['company_field','company_number','status',\n",
    "                                 'person_name','notified_date','age','gender',\n",
    "                                 'nationality','voting_rights','ownership'])\n",
    "# use functions to save the information of significant persons in manufacturing companies and tour companies to two dataframes\n",
    "df_fash=save_info_to_df(df_persons,fashion_companies,\"fashion\")\n",
    "df_finance=save_info_to_df(df_persons,finance_companies,\"finance\")"
   ]
  },
  {
   "cell_type": "code",
   "execution_count": 13,
   "id": "2e9e6de5",
   "metadata": {},
   "outputs": [],
   "source": [
    "# get two fields companies' gender\n",
    "fash_gender=get_gender(df_fash)\n",
    "finance_gender=get_gender(df_finance)"
   ]
  },
  {
   "cell_type": "markdown",
   "id": "027592ea",
   "metadata": {},
   "source": [
    "### Business Question 1: Mini-report and visualisation:"
   ]
  },
  {
   "cell_type": "markdown",
   "id": "c011a858",
   "metadata": {},
   "source": [
    "**What makes a company more fair in terms of gender?**"
   ]
  },
  {
   "cell_type": "markdown",
   "id": "9268c3a9",
   "metadata": {},
   "source": [
    "Gender inequality in management has always been a significant topic. To discover what makes a company fairer in terms of gender, we select two industries to analyse the gender distribution, the number of males and females notified over years and average voting rights and ownership.\n",
    "\n",
    "We queried the data of significant persons in the first 400 companies with keywords ‘fashion’ and ‘finance’ and plotted pie charts, line charts and double bar charts.\n",
    "\n",
    "Basically, the number of male executives is larger than females in both industries as shown in the pie charts. However, gender equity is better in the fashion industry. Interestingly, the line charts show that the number of female directors is increasing slowly since 2017. It is possible that the proportion of female managers will increase in the future. Furthermore, females have more average voting rights and ownership than males in the fashion industry according to the left double bar chart. Interestingly, the voting rights and ownership of males are only slightly higher than females, although the proportion of males is much larger than females.\n",
    "\n",
    "In conclusion, even though the total amount of male administrators is much larger than females in both industries, there is an increasing number of female managers notified in fashion companies. The average voting rights and ownership of both genders are similar in finance companies."
   ]
  },
  {
   "cell_type": "code",
   "execution_count": 15,
   "id": "d63cdf75",
   "metadata": {
    "scrolled": false
   },
   "outputs": [
    {
     "data": {
      "image/png": "[encoded data removed]",
      "text/plain": [
       "<Figure size 720x504 with 6 Axes>"
      ]
     },
     "metadata": {
      "needs_background": "light"
     },
     "output_type": "display_data"
    }
   ],
   "source": [
    "## draw four figures in one plot\n",
    "# Adjust layout\n",
    "fig, axes = plt.subplots(nrows=3, ncols=2,figsize=(10,7))\n",
    "\n",
    "# pie chart for gender distribution\n",
    "plt.subplot(3,2,1)\n",
    "get_pie_chart(fash_gender,'the gender distribution in fashion companies')\n",
    "plt.subplot(3,2,2)\n",
    "get_pie_chart(finance_gender,'the gender distribution in finance companies')\n",
    "\n",
    "# The number of persons notified over time by gender\n",
    "plt.subplot(3,2,3)\n",
    "get_line_chart(get_number(df_fash,'notified_date','gender'),'The number of persons notified over time in fashion companies')\n",
    "\n",
    "plt.subplot(3,2,4)\n",
    "get_line_chart(get_number(df_finance,'notified_date','gender'),'The number of persons notified over time in finance companies')\n",
    "\n",
    "# Mean of voting rights and ownership for each field companies\n",
    "plt.subplot(3,2,5)\n",
    "get_double_bar_chart('voting_rights','mean of voting rights','The average voting rights')\n",
    "plt.subplot(3,2,6)\n",
    "get_double_bar_chart('ownership','mean of ownership','The average ownership')\n",
    "\n",
    "# Set up layout\n",
    "plt.subplots_adjust(left=0.125,\n",
    "                    bottom=0.1, \n",
    "                    right=1.5, \n",
    "                    top=1.2, \n",
    "                    wspace=0.2, \n",
    "                    hspace=0.55)\n",
    "\n",
    "# fig.tight_layout() # Or equivalently,  \"plt.tight_layout()\"\n",
    "plt.show()"
   ]
  },
  {
   "cell_type": "markdown",
   "id": "6dc9e7e6",
   "metadata": {},
   "source": [
    "# Business Question 2: When is a good time to start a tourism business? "
   ]
  },
  {
   "cell_type": "markdown",
   "id": "1cc860d0",
   "metadata": {},
   "source": [
    "### Business Question 2: Code:"
   ]
  },
  {
   "cell_type": "code",
   "execution_count": null,
   "id": "5977e4a9",
   "metadata": {},
   "outputs": [],
   "source": [
    "# YOUR CODE HERE"
   ]
  },
  {
   "cell_type": "code",
   "execution_count": 31,
   "id": "3d582775",
   "metadata": {},
   "outputs": [],
   "source": [
    "def save_info_to_df(companies):\n",
    "    # create a dataFrame and save essential persons information in the df\n",
    "    df=pd.DataFrame(columns=['company_number','company_name','status','country','locality',\n",
    "                                 'creation_date','cessation_date','lifespan','sic'])\n",
    "    for company in companies:\n",
    "        df=df.append({'company_number':company['company_number'],'company_name':company['title'],\n",
    "                                 'status':company.get('company_status','Na'),\n",
    "                                 'country':company.get('address',{}).get('country','Na') if company.get('address',{}) is not None else 'Na',\n",
    "                                 'locality':company.get('address',{}).get('locality','Na') if company.get('address',{}) is not None else 'Na',\n",
    "                                  'creation_date':company.get('date_of_creation','Na') if company.get('date_of_creation','Na') is not None else 'Na',\n",
    "                                  'cessation_date':company.get('date_of_cessation','Na') if company.get('date_of_creation','Na') is not None else 'Na',\n",
    "                                  'lifespan':int((company.get('date_of_cessation','2021') if company.get('date_of_cessation','2021') is not None else '2021')[:4])\n",
    "                                          -int((company.get('date_of_creation','0000') if company.get('date_of_creation','0000') is not None else '0000')[:4]),\n",
    "                                 'sic':data_for_company(company[\"company_number\"]).get(\"sic_codes\",[])},\n",
    "                                ignore_index=True)\n",
    "    # remove outliers\n",
    "    df = df.drop(df[df.lifespan>500].index)\n",
    "    df = df.drop(df[df.status=='Na'].index)\n",
    "    # reset index of dataFrame\n",
    "    df=df.reset_index(drop=True)\n",
    "    return df\n",
    "\n",
    "# remove outliers\n",
    "def drop_outliers(df):\n",
    "    for i in range(len(df)):\n",
    "        if df.loc[i,'status']=='active' and df.loc[i,'cessation_date']!='Na':\n",
    "            df.drop([i])\n",
    "        else:\n",
    "            continue\n",
    "    \n",
    "    return df.reset_index(drop=True)\n",
    "    \n",
    "# select tour company according to sic\n",
    "def select_tour_company(df):\n",
    "    for i in df['sic']:\n",
    "        if i in sic_tour:\n",
    "            return 'tour'\n",
    "        else:\n",
    "            return 'else'\n",
    "\n",
    "# get creation year\n",
    "def get_year(df):\n",
    "    return int(df['creation_date'][:4])\n",
    "\n",
    "# get creation season\n",
    "def get_season(df):\n",
    "    if int(df['creation_date'][5:7])<4:\n",
    "        return 'Spring'\n",
    "    elif int(df['creation_date'][5:7])<7:\n",
    "        return 'Summer'\n",
    "    elif int(df['creation_date'][5:7])<10:\n",
    "        return 'Autumn'\n",
    "    else: return 'Winter'\n",
    "    \n",
    "# divide creation_year into several range\n",
    "def year_range(df):\n",
    "    bins = [1961,1981,2001,2021]\n",
    "    labels = ['1961-1981','1981-2001','2001-2021']\n",
    "    df['year_range'] = pd.cut(df.creation_year, bins, labels = labels,include_lowest = True)\n",
    "    return df\n",
    "\n",
    "# get year range\n",
    "def get_year_range(df):\n",
    "    # calculate the size of each year range\n",
    "    age_range=df.groupby('year_range').size()\n",
    "    age_dict=age_range.to_dict()\n",
    "    \n",
    "    return age_dict\n",
    "    \n",
    "# draw line chart\n",
    "def get_line_chart(dataset,title,x,color):\n",
    "    ax=sns.lineplot(data=dataset, x=x, y='count', hue='status')\n",
    "    ax.set_title(title,fontsize=15)\n",
    "    ax.set_ylabel('number of companies created' ,fontsize=12,color=color)\n",
    "    ax.set_xlabel(x, fontsize=12,color=color)\n",
    "    \n",
    "# draw bar chart\n",
    "def get_bar_chart_tour(x,title,xlabel,palette,color):\n",
    "    ax=sns.barplot(x=x, y='lifespan', data=df_tour, palette=palette,estimator=mean)\n",
    "    ax.set_title(title, fontsize=20)\n",
    "    ax.set_xlabel(xlabel, fontsize=12,color=color)\n",
    "    ax.set_ylabel('Avg Lifespan', fontsize=16,color=color)\n",
    "    ax.tick_params(axis='y')\n",
    "    return ax"
   ]
  },
  {
   "cell_type": "code",
   "execution_count": 26,
   "id": "responsible-situation",
   "metadata": {},
   "outputs": [],
   "source": [
    "tour=['travel','trip','cruise','journey','excursion']\n",
    "tour_companies=search_for_companies_with_query('tour',100)\n",
    "for i in tour: \n",
    "    tour_companies+=search_for_companies_with_query(i,100)\n",
    "\n",
    "# save information to df\n",
    "df_tour=save_info_to_df(tour_companies)\n",
    "df_tour=drop_outliers(df_tour)\n",
    "# save to csv\n",
    "df_tour.to_csv('df_tour.csv', sep='\\t', encoding='utf-8',index=False)"
   ]
  },
  {
   "cell_type": "code",
   "execution_count": 21,
   "id": "usual-translator",
   "metadata": {},
   "outputs": [],
   "source": [
    "# get all the unique sic code and save to csv, check which code is related to tourism\n",
    "tour_data=[data_for_company(company['company_number']) for company in tour_companies]\n",
    "sic=[company.get('sic_codes') for company in tour_data]\n",
    "sic_code=list(set([i[0] for i in sic if i!=None]))\n",
    "\n",
    "dict_sic = {'sic':sic_code}  \n",
    "df = pd.DataFrame(dict_sic) \n",
    "df.to_csv('sic.csv',index=[0])\n",
    "# use execel to check the name corresponding with sic\n",
    "#79120, 79901,79110, 49319, 49390,96040,93290 "
   ]
  },
  {
   "cell_type": "code",
   "execution_count": 34,
   "id": "b2aad17e",
   "metadata": {
    "deletable": false,
    "nbgrader": {
     "cell_type": "code",
     "checksum": "5852b9053d1c37cb5d3d238ee64a94cf",
     "grade": true,
     "grade_id": "cell-7c8b65431ad41ec6",
     "locked": false,
     "points": 100,
     "schema_version": 3,
     "solution": true,
     "task": false
    },
    "scrolled": true
   },
   "outputs": [],
   "source": [
    "# get the sic code which are related to tour\n",
    "sic_tour=['79120', '79901','79110', '49319', '49390','96040','93290']\n",
    "\n",
    "# create new columns \n",
    "df_tour['field']=df_tour.apply(lambda r:select_tour_company(r),axis=1)\n",
    "df_tour['creation_year']=df_tour.apply(lambda r:get_year(r),axis=1)\n",
    "df_tour['creation_season']=df_tour.apply(lambda r:get_season(r),axis=1)\n",
    "\n",
    "# select tour companies according to sic\n",
    "df_tour=df_tour[df_tour['field']=='tour']\n",
    "df_tour=df_tour.reset_index(drop=True)\n",
    "\n",
    "# set year_range\n",
    "df_tour=year_range(df_tour)"
   ]
  },
  {
   "cell_type": "markdown",
   "id": "f5f4cee1",
   "metadata": {},
   "source": [
    "### Business Question 2: Mini-report and visualisation:"
   ]
  },
  {
   "cell_type": "markdown",
   "id": "70236dce",
   "metadata": {},
   "source": [
    "**When is a good time to start a tourism business?**"
   ]
  },
  {
   "cell_type": "markdown",
   "id": "d908526d",
   "metadata": {},
   "source": [
    "The tourism industry is very vulnerable to disease, seasons, and economics. To discover what is the good time to open a tourism business, this report analyses the number of tourism companies created and their average lifespan in each year and season.\n",
    "\n",
    "We extracted 600 companies with related keywords, removed outliers and filtered out irrelative companies by their sic codes. Finally, we plot line charts and bar charts using visualization tools.\n",
    "\n",
    "From the left line chart, we observed that the number of companies created is increasing over time. The number of tourism companies created in 2021 is the largest. However, the average lifespan decreases over time as shown in the left bar chart. The average lifespans of old companies are longer. In terms of seasons, the right line chart shows that the number of companies created in spring and winter is the largest, considering both active and dissolved companies. Furthermore, the companies created in winter and spring have longer lifespans as shown in the right bar chart. It might be because the best season for travel starts in spring, so tourism companies need to be registered earlier for preparation and attracting customers.\n",
    "\n",
    "In conclusion, the number of companies created over time is increasing, but the lifespan is decreasing. The best seasons for opening a tourism business are winter and spring."
   ]
  },
  {
   "cell_type": "code",
   "execution_count": 37,
   "id": "descending-illinois",
   "metadata": {},
   "outputs": [
    {
     "data": {
      "image/png": "[encoded data removed]",
      "text/plain": [
       "<Figure size 720x504 with 4 Axes>"
      ]
     },
     "metadata": {
      "needs_background": "light"
     },
     "output_type": "display_data"
    }
   ],
   "source": [
    "## draw four figures in one plot\n",
    "# Adjust layout\n",
    "fig, axes = plt.subplots(nrows=2, ncols=2,figsize=(10,7))\n",
    "\n",
    "# line charts\n",
    "plt.subplot(2,2,1)\n",
    "get_line_chart(get_number(df_tour,'creation_year','status'),'Line chart for the number of companies created over time','creation_year','tab:green')\n",
    "\n",
    "plt.subplot(2,2,2)\n",
    "get_line_chart(get_number(df_tour,'creation_season','status'),'Line chart for the number of companies created over time','creation_season','tab:blue')\n",
    "\n",
    "plt.subplot(2,2,3)\n",
    "#bar plot creation\n",
    "get_bar_chart_tour('year_range','Average Lifespan by Year','Year','summer','tab:green')\n",
    "\n",
    "plt.subplot(2,2,4)\n",
    "get_bar_chart_tour('creation_season','Average Lifespan by season','Season','winter','tab:blue')\n",
    "\n",
    "\n",
    "\n",
    "# Set up layout\n",
    "plt.subplots_adjust(left=0.125,\n",
    "                    bottom=0.1, \n",
    "                    right=1.5, \n",
    "                    top=1.2, \n",
    "                    wspace=0.2, \n",
    "                    hspace=0.55)\n",
    "plt.show()"
   ]
  },
  {
   "cell_type": "markdown",
   "id": "aa4b6d95",
   "metadata": {},
   "source": [
    "# Business Question 3: What is the best place in UK to set up a fintech company? Did it change over the years? "
   ]
  },
  {
   "cell_type": "markdown",
   "id": "c28ebd9b",
   "metadata": {},
   "source": [
    "### Business Question 3: Code:"
   ]
  },
  {
   "cell_type": "code",
   "execution_count": 201,
   "id": "d2d0bcda",
   "metadata": {
    "deletable": false,
    "nbgrader": {
     "cell_type": "code",
     "checksum": "7cc2cae3f32d42f786fc296b8cca2655",
     "grade": true,
     "grade_id": "cell-fdc7a4890d4d0d75",
     "locked": false,
     "points": 100,
     "schema_version": 3,
     "solution": true,
     "task": false
    },
    "scrolled": false
   },
   "outputs": [],
   "source": [
    "# YOUR CODE HERE"
   ]
  },
  {
   "cell_type": "code",
   "execution_count": 30,
   "id": "b7446b0f",
   "metadata": {},
   "outputs": [],
   "source": [
    "# select fintech companies based on their sic\n",
    "def select_fintech_company(df):\n",
    "    for i in df['sic']:\n",
    "        if i in sic_fintech:\n",
    "            return 'fintech'\n",
    "            continue\n",
    "        else:\n",
    "            return 'else'\n",
    "\n",
    "# remove None value and other comapnies\n",
    "def remove_outliers_fintech(df):\n",
    "    df=df[df['country']!='Na']\n",
    "    df=df[df['country']!='United Kingdom']\n",
    "    # select tour companies according to sic\n",
    "    df=df[df['field']=='fintech']\n",
    "    df=df.reset_index(drop=True)\n",
    "    return df\n",
    "\n",
    "# get counts based on locality\n",
    "def get_count(df_fin):\n",
    "    count_groupby=df_fin['locality'].value_counts()\n",
    "    counts_series = df_fin['locality'].value_counts()\n",
    "    counts=counts_series.to_frame(name = 'count').reset_index()\n",
    "    counts=counts[counts['index']!='Na']\n",
    "    return counts"
   ]
  },
  {
   "cell_type": "code",
   "execution_count": 16,
   "id": "9cb5fc7b",
   "metadata": {},
   "outputs": [],
   "source": [
    "# select words related to fintech\n",
    "fintech=['finance','digit','market','consult','financial']\n",
    "fin_companies=search_for_companies_with_query('fintech',100)\n",
    "for i in fintech: \n",
    "    fin_companies+=search_for_companies_with_query(i,100)\n",
    "\n",
    "# save company information to dataframe\n",
    "# save_info_to_df - function in question 2\n",
    "df_fin=save_info_to_df(fin_companies)"
   ]
  },
  {
   "cell_type": "code",
   "execution_count": 25,
   "id": "4610fe64",
   "metadata": {},
   "outputs": [],
   "source": [
    "# get the sic code which are related to tour\n",
    "sic_fintech=['64205','64910','64921','64922','64999','66110','66190','70221','70229','71122','62020','69203']\n",
    "\n",
    "# create new columns \n",
    "df_fin['field']=df_fin.apply(lambda r:select_fintech_company(r),axis=1)\n",
    "# get_year - function in question 2\n",
    "df_fin['creation_year']=df_fin.apply(lambda r:get_year(r),axis=1)\n",
    "\n",
    "#remove outliers\n",
    "df_fin=remove_outliers_fintech(df_fin)"
   ]
  },
  {
   "cell_type": "markdown",
   "id": "0c1c4916",
   "metadata": {},
   "source": [
    "### Business Question 3: Mini-report and visualisation:"
   ]
  },
  {
   "cell_type": "markdown",
   "id": "9ab71610",
   "metadata": {},
   "source": [
    "**What is the best place in UK to set up a fintech company? Did it change over the years?**"
   ]
  },
  {
   "cell_type": "markdown",
   "id": "d7bf0985",
   "metadata": {},
   "source": [
    "Fintech is a new technology gaining more and more attention. This report aims to discover which place is the best to set up a fintech company in Britain and find out the changes over time.\n",
    "\n",
    "We extracted 600 companies with related keywords, removed outliers and filtered out irrelative companies by their sic codes. Finally, we plotted a line chart and bar charts.\n",
    "\n",
    "The average lifespan and the number of companies created in England are much larger than in Scotland and Wales as shown in the left two charts. We observed that the number of fintech companies created in England is increasing over time, and there is a spike between 2000 and 2020. Interestingly, the right top bar chart shows that London has the highest number with over 90 fintech companies. Edinburgh, Manchester, and Glasgow are the next, with less than 20 fintech companies. Furthermore, based on the bottom right bar chart, the average lifespan of fintech companies in Potters Bar is the longest, with around 120 years. Scarborough, West Byfleet and Braintree are the next. Their locations are close to London and most of the top 10 cities are in England.\n",
    "\n",
    "In conclusion, England is the best country to set up a fintech company. London or the cities around London might be the best locations for the fintech industry. \n"
   ]
  },
  {
   "cell_type": "code",
   "execution_count": 64,
   "id": "766bad64",
   "metadata": {},
   "outputs": [
    {
     "data": {
      "image/png": "[encoded data removed]",
      "text/plain": [
       "<Figure size 864x504 with 4 Axes>"
      ]
     },
     "metadata": {
      "needs_background": "light"
     },
     "output_type": "display_data"
    }
   ],
   "source": [
    "## draw four figures in one plot\n",
    "# Adjust layout\n",
    "fig, axes = plt.subplots(nrows=2, ncols=2,figsize=(12,7))\n",
    "\n",
    "\n",
    "# line chart\n",
    "plt.subplot(2,2,1)\n",
    "ax=sns.lineplot(data=get_number(df_fin,'creation_year','country'), x='creation_year', y='count', hue='country')\n",
    "ax.set_title('The number of companies created over time')\n",
    "ax.set_ylabel('The number of companies')\n",
    "ax.set_xlabel('Year')\n",
    "\n",
    "# top 10 cities with most number of companies\n",
    "plt.subplot(2,2,2)\n",
    "counts=get_count(df_fin)\n",
    "ax=sns.barplot(x='count', y='index', data=counts.iloc[:10], palette='Blues_d')\n",
    "ax.set_title('Top 10 cities with the most number of fintech companies')\n",
    "ax.set_ylabel('Theumber of companies')\n",
    "\n",
    "# bar chart: the average lifespan in each country\n",
    "plt.subplot(2,2,3)\n",
    "ax=sns.barplot(x='lifespan', y='country', data=df_fin, palette='summer',estimator=mean)\n",
    "ax.set_title('The average lifespan in each country')\n",
    "\n",
    "# top 10 cities with the longest lifespan\n",
    "plt.subplot(2,2,4)\n",
    "order = df_fin.groupby([\"locality\"])[\"lifespan\"].mean().sort_values(ascending=False).index[:10]\n",
    "ax=sns.barplot(x='lifespan', y='locality', data=df_fin, palette='autumn',estimator=mean,order=order)\n",
    "ax.set_title('Top 10 cities with the longest average lifespan')\n",
    "\n",
    "# Set up layout\n",
    "plt.subplots_adjust(left=0.125,\n",
    "                    bottom=0.1, \n",
    "                    right=1, \n",
    "                    top=1, \n",
    "                    wspace=0.5, \n",
    "                    hspace=0.3)\n",
    "plt.show()"
   ]
  }
 ],
 "metadata": {
  "kernelspec": {
   "display_name": "Python 3 (ipykernel)",
   "language": "python",
   "name": "python3"
  },
  "language_info": {
   "codemirror_mode": {
    "name": "ipython",
    "version": 3
   },
   "file_extension": ".py",
   "mimetype": "text/x-python",
   "name": "python",
   "nbconvert_exporter": "python",
   "pygments_lexer": "ipython3",
   "version": "3.9.2"
  }
 },
 "nbformat": 4,
 "nbformat_minor": 5
}
